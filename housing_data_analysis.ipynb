{
 "cells": [
  {
   "cell_type": "markdown",
   "id": "d62096c2",
   "metadata": {},
   "source": [
    "# 🏡 Housing Data Analysis\n",
    "\n",
    "This notebook explores average home prices, income, and population data across several cities using Python and basic data visualization."
   ]
  },
  {
   "cell_type": "code",
   "execution_count": null,
   "id": "1d002341",
   "metadata": {},
   "outputs": [],
   "source": [
    "# 📦 Import libraries\n",
    "import pandas as pd\n",
    "import matplotlib.pyplot as plt\n",
    "\n",
    "# Load the housing dataset\n",
    "df = pd.read_csv(\"housing_data_with_ratio.csv\")\n",
    "df.head()"
   ]
  },
  {
   "cell_type": "markdown",
   "id": "8b2af45d",
   "metadata": {},
   "source": [
    "## 📊 Summary Statistics\n",
    "Basic descriptive statistics to understand trends in the data."
   ]
  },
  {
   "cell_type": "code",
   "execution_count": null,
   "id": "d3f9c79c",
   "metadata": {},
   "outputs": [],
   "source": [
    "# Summary stats\n",
    "df.describe()"
   ]
  },
  {
   "cell_type": "markdown",
   "id": "c01c5d9c",
   "metadata": {},
   "source": [
    "## 💡 Income-to-Price Ratio\n",
    "Let's compare how affordable housing is across cities by calculating income-to-price ratios."
   ]
  },
  {
   "cell_type": "code",
   "execution_count": null,
   "id": "9bab9834",
   "metadata": {},
   "outputs": [],
   "source": [
    "# Check the income-to-price ratio\n",
    "df[[\"City\", \"Income_to_Price_Ratio\"]].sort_values(by=\"Income_to_Price_Ratio\", ascending=False)"
   ]
  },
  {
   "cell_type": "markdown",
   "id": "849742e5",
   "metadata": {},
   "source": [
    "## 📉 Visualization: Average Home Price by City"
   ]
  },
  {
   "cell_type": "code",
   "execution_count": null,
   "id": "08b2f198",
   "metadata": {},
   "outputs": [],
   "source": [
    "plt.figure(figsize=(10, 6))\n",
    "plt.bar(df[\"City\"], df[\"Avg_Home_Price\"])\n",
    "plt.title(\"Average Home Price by City\")\n",
    "plt.ylabel(\"Price ($)\")\n",
    "plt.xticks(rotation=45)\n",
    "plt.tight_layout()\n",
    "plt.show()"
   ]
  },
  {
   "cell_type": "markdown",
   "id": "1d9d7dcf",
   "metadata": {},
   "source": [
    "## 📈 Scatterplot: Median Income vs Average Home Price"
   ]
  },
  {
   "cell_type": "code",
   "execution_count": null,
   "id": "e3cbb445",
   "metadata": {},
   "outputs": [],
   "source": [
    "plt.figure(figsize=(8, 6))\n",
    "plt.scatter(df[\"Median_Income\"], df[\"Avg_Home_Price\"])\n",
    "plt.title(\"Median Income vs Average Home Price\")\n",
    "plt.xlabel(\"Median Income ($)\")\n",
    "plt.ylabel(\"Average Home Price ($)\")\n",
    "plt.grid(True)\n",
    "plt.tight_layout()\n",
    "plt.show()"
   ]
  },
  {
   "cell_type": "markdown",
   "id": "310fc2e8",
   "metadata": {},
   "source": [
    "---\n",
    "\n",
    "👩‍💻 Created by Ashley Howard"
   ]
  }
 ],
 "metadata": {},
 "nbformat": 4,
 "nbformat_minor": 5
}
